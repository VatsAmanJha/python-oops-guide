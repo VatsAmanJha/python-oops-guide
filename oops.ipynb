{
 "cells": [
  {
   "cell_type": "markdown",
   "metadata": {},
   "source": [
    "# Oops Concepts:\n",
    "\n",
    "- Class\n",
    "- Object\n",
    "- Polymorphism\n",
    "- Encapsulation\n",
    "- Inheritance\n",
    "- Abstraction\n"
   ]
  },
  {
   "cell_type": "markdown",
   "metadata": {},
   "source": [
    "---\n"
   ]
  },
  {
   "cell_type": "markdown",
   "metadata": {},
   "source": [
    "# Class\n",
    "\n",
    "- Class is a blueprint of real-world entity\n",
    "- Class have two things\n",
    "  - Data or Property or Attribute\n",
    "  - Function or Behavior or Method\n",
    "\n",
    "For Eg.\n",
    "\n",
    "<pre>\n",
    "class Car:\n",
    "\n",
    "    color=\"red\" #data\n",
    "\n",
    "    def calculate_avg_speed(km,time): #Function\n",
    "        #some code\n",
    "</pre>\n",
    "\n",
    "Some Rule and naming convenction of Class defination:\n",
    "\n",
    "- Class name always in Pascal Case. for eg. CarAudi\n",
    "- Variable name always in cammale case. for eg.avgSpeed\n",
    "- Function name always in snake case. for eg.calculate_avg_speed\n"
   ]
  },
  {
   "cell_type": "markdown",
   "metadata": {},
   "source": [
    "---\n"
   ]
  },
  {
   "cell_type": "markdown",
   "metadata": {},
   "source": [
    "# Object\n",
    "\n",
    "- Object is an instance of class\n",
    "<pre>\n",
    "audi=Car()\n",
    "</pre>\n"
   ]
  },
  {
   "cell_type": "markdown",
   "metadata": {},
   "source": [
    "---\n"
   ]
  },
  {
   "cell_type": "markdown",
   "metadata": {},
   "source": [
    "Practical Implementation of Class and Object (ATM machine)\n"
   ]
  },
  {
   "cell_type": "markdown",
   "metadata": {},
   "source": [
    "def**init**(self): is a constructor.\n",
    "\n",
    "- constructor is a sp. type of method they are automatically call when object is created and code is also executed when object is created.\n",
    "\n",
    "- **init** also a magic method i.e. magic method is special type of method they are automatically call in a special condition.\n",
    "\n",
    "- the main use of constructor is then some things are auto call when appication is open i.e user not control that thing and this is a statup of your appication..\n",
    "\n",
    "- Instance variable is a variable that define under the constructor. those value change instance to instance.\n"
   ]
  },
  {
   "cell_type": "code",
   "execution_count": 1,
   "metadata": {},
   "outputs": [],
   "source": [
    "class Atm:\n",
    "    def __init__(self):\n",
    "        self.pin = \"\"\n",
    "        self.balance = 0\n",
    "        print(id(self))\n",
    "        # self.menu()\n",
    "\n",
    "    def menu(self):\n",
    "        print(\"Welcome to the ATM\")\n",
    "        print(\"1. Check Balance\")\n",
    "        print(\"2. Withdraw Money\")\n",
    "        print(\"3. Deposit Money\")\n",
    "        print(\"4. Change PIN\")\n",
    "        print(\"5. Exit\")\n",
    "\n",
    "        option = input(\"Please enter your choice: \")\n",
    "\n",
    "        if option == \"1\":\n",
    "            self.check_balance()\n",
    "        elif option == \"2\":\n",
    "            self.withdraw_money()\n",
    "        elif option == \"3\":\n",
    "            self.deposit_money()\n",
    "        elif option == \"4\":\n",
    "            self.change_pin()\n",
    "        elif option == \"5\":\n",
    "            print(\"Thank you for using the ATM\")\n",
    "            exit()\n",
    "        else:\n",
    "            print(\"Invalid option, please try again.\")\n",
    "            self.menu()\n",
    "\n",
    "    def check_balance(self):\n",
    "        pin = input(\"Enter your PIN: \")\n",
    "        if pin == self.pin:\n",
    "            print(f\"Your balance is {self.balance}\")\n",
    "            self.menu()\n",
    "\n",
    "    def withdraw_money(self):\n",
    "        pin = input(\"Enter your PIN: \")\n",
    "        if pin == self.pin:\n",
    "            amount = float(input(\"Enter the amount to withdraw: \"))\n",
    "            if amount <= self.balance:\n",
    "                self.balance -= amount\n",
    "                print(f\"Withdrawal successful. Remaining balance: {self.balance}\")\n",
    "            else:\n",
    "                print(\"Insufficient funds.\")\n",
    "            self.menu()\n",
    "\n",
    "    def deposit_money(self):\n",
    "        pin = input(\"Enter your PIN: \")\n",
    "        if pin == self.pin:\n",
    "            amount = float(input(\"Enter the amount to deposit: \"))\n",
    "            self.balance += amount\n",
    "            print(f\"Deposit successful. New balance: {self.balance}\")\n",
    "            self.menu()\n",
    "\n",
    "    def change_pin(self):\n",
    "        new_pin = input(\"Enter new PIN: \")\n",
    "        self.pin = new_pin\n",
    "        print(\"PIN changed successfully.\")\n",
    "        self.menu()"
   ]
  },
  {
   "cell_type": "code",
   "execution_count": 3,
   "metadata": {},
   "outputs": [
    {
     "name": "stdout",
     "output_type": "stream",
     "text": [
      "2312736893456\n"
     ]
    }
   ],
   "source": [
    "a1 = Atm()"
   ]
  },
  {
   "cell_type": "code",
   "execution_count": 5,
   "metadata": {},
   "outputs": [
    {
     "data": {
      "text/plain": [
       "2312736893456"
      ]
     },
     "execution_count": 5,
     "metadata": {},
     "output_type": "execute_result"
    }
   ],
   "source": [
    "id(a1)"
   ]
  },
  {
   "cell_type": "markdown",
   "metadata": {},
   "source": [
    "self keyword and object are same both are store in same location..\n",
    "\n",
    "current object are know as self\n"
   ]
  },
  {
   "cell_type": "markdown",
   "metadata": {},
   "source": [
    "---\n"
   ]
  },
  {
   "cell_type": "markdown",
   "metadata": {},
   "source": [
    "How to create own data-type\n"
   ]
  },
  {
   "cell_type": "code",
   "execution_count": 21,
   "metadata": {},
   "outputs": [],
   "source": [
    "class Fraction:\n",
    "    def __init__(self, n, d):\n",
    "        self.n = n\n",
    "        self.d = d\n",
    "\n",
    "    def __str__(self):\n",
    "        return f\"{self.n}/{self.d}\"\n",
    "\n",
    "    def __add__(self, other):\n",
    "        temp_n = self.n * other.d + other.n * self.d\n",
    "        temp_d = self.d * other.d\n",
    "        return Fraction(temp_n, temp_d)\n",
    "\n",
    "    def __sub__(self, other):\n",
    "        temp_n = self.n * other.d - other.n * self.d\n",
    "        temp_d = self.d * other.d\n",
    "        return Fraction(temp_n, temp_d)\n",
    "\n",
    "    def __mul__(self, other):\n",
    "        temp_n = self.n * other.n\n",
    "        temp_d = self.d * other.d\n",
    "        return Fraction(temp_n, temp_d)\n",
    "\n",
    "    def __truediv__(self, other):\n",
    "        temp_n = self.n * other.d\n",
    "        temp_d = self.d * other.n\n",
    "        return Fraction(temp_n, temp_d)"
   ]
  },
  {
   "cell_type": "code",
   "execution_count": 19,
   "metadata": {},
   "outputs": [],
   "source": [
    "f1 = Fraction(2, 3)"
   ]
  },
  {
   "cell_type": "markdown",
   "metadata": {},
   "source": [
    "**str**(self) is also a magic method that are automatically call when you print object\n"
   ]
  },
  {
   "cell_type": "code",
   "execution_count": 20,
   "metadata": {},
   "outputs": [
    {
     "name": "stdout",
     "output_type": "stream",
     "text": [
      "2/3\n"
     ]
    }
   ],
   "source": [
    "print(f1)"
   ]
  },
  {
   "cell_type": "code",
   "execution_count": 21,
   "metadata": {},
   "outputs": [],
   "source": [
    "f2 = Fraction(2, 3)"
   ]
  },
  {
   "cell_type": "code",
   "execution_count": 22,
   "metadata": {},
   "outputs": [
    {
     "name": "stdout",
     "output_type": "stream",
     "text": [
      "2/3\n"
     ]
    }
   ],
   "source": [
    "print(f1)"
   ]
  },
  {
   "cell_type": "code",
   "execution_count": 23,
   "metadata": {},
   "outputs": [
    {
     "name": "stdout",
     "output_type": "stream",
     "text": [
      "12/9\n"
     ]
    }
   ],
   "source": [
    "print(f1 + f2)"
   ]
  },
  {
   "cell_type": "code",
   "execution_count": 24,
   "metadata": {},
   "outputs": [
    {
     "name": "stdout",
     "output_type": "stream",
     "text": [
      "0/9\n"
     ]
    }
   ],
   "source": [
    "print(f1 - f2)"
   ]
  },
  {
   "cell_type": "code",
   "execution_count": 25,
   "metadata": {},
   "outputs": [
    {
     "name": "stdout",
     "output_type": "stream",
     "text": [
      "4/9\n"
     ]
    }
   ],
   "source": [
    "print(f1 * f2)"
   ]
  },
  {
   "cell_type": "code",
   "execution_count": 26,
   "metadata": {},
   "outputs": [
    {
     "name": "stdout",
     "output_type": "stream",
     "text": [
      "6/6\n"
     ]
    }
   ],
   "source": [
    "print(f1 / f2)"
   ]
  },
  {
   "cell_type": "markdown",
   "metadata": {},
   "source": [
    "---\n"
   ]
  },
  {
   "cell_type": "markdown",
   "metadata": {},
   "source": [
    "# Encapsulation\n"
   ]
  },
  {
   "cell_type": "code",
   "execution_count": 12,
   "metadata": {},
   "outputs": [],
   "source": [
    "class Atm:\n",
    "    def __init__(self):\n",
    "        self.__pin = 0\n",
    "        self.__balance = 0\n",
    "        self.menu()\n",
    "\n",
    "    def menu(self):\n",
    "        print(\"Welcome to the ATM\")\n",
    "        print(\"1. Check Balance\")\n",
    "        print(\"2. Withdraw Money\")\n",
    "        print(\"3. Deposit Money\")\n",
    "        print(\"4. Change PIN\")\n",
    "        print(\"5. Exit\")\n",
    "\n",
    "        option = input(\"Please enter your choice: \")\n",
    "\n",
    "        if option == \"1\":\n",
    "            self.check_balance()\n",
    "        elif option == \"2\":\n",
    "            self.withdraw_money()\n",
    "        elif option == \"3\":\n",
    "            self.deposit_money()\n",
    "        elif option == \"4\":\n",
    "            self.change_pin()\n",
    "        elif option == \"5\":\n",
    "            print(\"Thank you for using the ATM\")\n",
    "            exit()\n",
    "        else:\n",
    "            print(\"Invalid option, please try again.\")\n",
    "            self.menu()\n",
    "\n",
    "    def check_balance(self):\n",
    "        pin = input(\"Enter your PIN: \")\n",
    "        if pin == self.__pin:\n",
    "            print(f\"Your balance is {self.__balance}\")\n",
    "            self.menu()\n",
    "\n",
    "    def withdraw_money(self):\n",
    "        pin = input(\"Enter your PIN: \")\n",
    "        if pin == self.__pin:\n",
    "            amount = float(input(\"Enter the amount to withdraw: \"))\n",
    "            if amount <= self.__balance:\n",
    "                self.__balance -= amount\n",
    "                print(f\"Withdrawal successful. Remaining balance: {self.__balance}\")\n",
    "            else:\n",
    "                print(\"Insufficient funds.\")\n",
    "            self.menu()\n",
    "\n",
    "    def deposit_money(self):\n",
    "        pin = input(\"Enter your PIN: \")\n",
    "        if pin == self.__pin:\n",
    "            amount = float(input(\"Enter the amount to deposit: \"))\n",
    "            self.__balance += amount\n",
    "            print(f\"Deposit successful. New balance: {self.__balance}\")\n",
    "            self.menu()\n",
    "\n",
    "    def change_pin(self):\n",
    "        new_pin = input(\"Enter new PIN: \")\n",
    "        self.__pin = new_pin\n",
    "        print(\"PIN changed successfully.\")\n",
    "        self.menu()"
   ]
  },
  {
   "cell_type": "code",
   "execution_count": 13,
   "metadata": {},
   "outputs": [
    {
     "name": "stdout",
     "output_type": "stream",
     "text": [
      "Welcome to the ATM\n",
      "1. Check Balance\n",
      "2. Withdraw Money\n",
      "3. Deposit Money\n",
      "4. Change PIN\n",
      "5. Exit\n",
      "Invalid option, please try again.\n",
      "Welcome to the ATM\n",
      "1. Check Balance\n",
      "2. Withdraw Money\n",
      "3. Deposit Money\n",
      "4. Change PIN\n",
      "5. Exit\n"
     ]
    },
    {
     "ename": "",
     "evalue": "",
     "output_type": "error",
     "traceback": [
      "\u001b[1;31mThe Kernel crashed while executing code in the current cell or a previous cell. \n",
      "\u001b[1;31mPlease review the code in the cell(s) to identify a possible cause of the failure. \n",
      "\u001b[1;31mClick <a href='https://aka.ms/vscodeJupyterKernelCrash'>here</a> for more info. \n",
      "\u001b[1;31mView Jupyter <a href='command:jupyter.viewOutput'>log</a> for further details."
     ]
    }
   ],
   "source": [
    "sbi = Atm()"
   ]
  },
  {
   "cell_type": "code",
   "execution_count": 4,
   "metadata": {},
   "outputs": [],
   "source": [
    "class Atm:\n",
    "    def __init__(self):\n",
    "        self.__pin = 0\n",
    "        self.__balance = 0\n",
    "        # self.menu()\n",
    "\n",
    "    def get_pin(self):\n",
    "        print(self.__pin)\n",
    "\n",
    "    def get_balance(self):\n",
    "        print(self.__balance)\n",
    "\n",
    "    def set_pin(self, new_pin):\n",
    "        self.__pin = new_pin\n",
    "        print(self.__pin)\n",
    "\n",
    "    def menu(self):\n",
    "        print(\"Welcome to the ATM\")\n",
    "        print(\"1. Check Balance\")\n",
    "        print(\"2. Withdraw Money\")\n",
    "        print(\"3. Deposit Money\")\n",
    "        print(\"4. Change PIN\")\n",
    "        print(\"5. Exit\")\n",
    "\n",
    "        option = input(\"Please enter your choice: \")\n",
    "\n",
    "        if option == \"1\":\n",
    "            self.check_balance()\n",
    "        elif option == \"2\":\n",
    "            self.withdraw_money()\n",
    "        elif option == \"3\":\n",
    "            self.deposit_money()\n",
    "        elif option == \"4\":\n",
    "            self.change_pin()\n",
    "        elif option == \"5\":\n",
    "            print(\"Thank you for using the ATM\")\n",
    "            exit()\n",
    "        else:\n",
    "            print(\"Invalid option, please try again.\")\n",
    "            self.menu()\n",
    "\n",
    "    def check_balance(self):\n",
    "        pin = input(\"Enter your PIN: \")\n",
    "        if pin == self.__pin:\n",
    "            print(f\"Your balance is {self.__balance}\")\n",
    "            self.menu()\n",
    "\n",
    "    def withdraw_money(self):\n",
    "        pin = input(\"Enter your PIN: \")\n",
    "        if pin == self.__pin:\n",
    "            amount = float(input(\"Enter the amount to withdraw: \"))\n",
    "            if amount <= self.__balance:\n",
    "                self.__balance -= amount\n",
    "                print(f\"Withdrawal successful. Remaining balance: {self.__balance}\")\n",
    "            else:\n",
    "                print(\"Insufficient funds.\")\n",
    "            self.menu()\n",
    "\n",
    "    def deposit_money(self):\n",
    "        pin = input(\"Enter your PIN: \")\n",
    "        if pin == self.__pin:\n",
    "            amount = float(input(\"Enter the amount to deposit: \"))\n",
    "            self.__balance += amount\n",
    "            print(f\"Deposit successful. New balance: {self.__balance}\")\n",
    "            self.menu()\n",
    "\n",
    "    def change_pin(self):\n",
    "        new_pin = input(\"Enter new PIN: \")\n",
    "        self.__pin = new_pin\n",
    "        print(\"PIN changed successfully.\")\n",
    "        self.menu()"
   ]
  },
  {
   "cell_type": "code",
   "execution_count": 5,
   "metadata": {},
   "outputs": [],
   "source": [
    "sbi = Atm()"
   ]
  },
  {
   "cell_type": "code",
   "execution_count": 7,
   "metadata": {},
   "outputs": [
    {
     "name": "stdout",
     "output_type": "stream",
     "text": [
      "123\n"
     ]
    }
   ],
   "source": [
    "sbi.set_pin(123)"
   ]
  },
  {
   "cell_type": "code",
   "execution_count": 8,
   "metadata": {},
   "outputs": [
    {
     "name": "stdout",
     "output_type": "stream",
     "text": [
      "123\n"
     ]
    }
   ],
   "source": [
    "sbi.get_pin()"
   ]
  },
  {
   "cell_type": "markdown",
   "metadata": {},
   "source": [
    "pass by reference\n"
   ]
  },
  {
   "cell_type": "code",
   "execution_count": 9,
   "metadata": {},
   "outputs": [],
   "source": [
    "class Customer:\n",
    "    def __init__(self, name):\n",
    "        self.name = name"
   ]
  },
  {
   "cell_type": "code",
   "execution_count": 10,
   "metadata": {},
   "outputs": [],
   "source": [
    "def greed(customer):\n",
    "    print(id(customer))\n",
    "    print(customer.name)\n",
    "    customer.name = \"Aman\"\n",
    "    print(customer.name)\n",
    "    print(id(customer))"
   ]
  },
  {
   "cell_type": "code",
   "execution_count": 12,
   "metadata": {},
   "outputs": [],
   "source": [
    "cust = Customer(\"Kunal\")"
   ]
  },
  {
   "cell_type": "code",
   "execution_count": 13,
   "metadata": {},
   "outputs": [
    {
     "name": "stdout",
     "output_type": "stream",
     "text": [
      "Kunal\n"
     ]
    }
   ],
   "source": [
    "print(cust.name)"
   ]
  },
  {
   "cell_type": "code",
   "execution_count": 14,
   "metadata": {},
   "outputs": [
    {
     "name": "stdout",
     "output_type": "stream",
     "text": [
      "2755715305680\n"
     ]
    }
   ],
   "source": [
    "print(id(cust))"
   ]
  },
  {
   "cell_type": "code",
   "execution_count": 15,
   "metadata": {},
   "outputs": [
    {
     "name": "stdout",
     "output_type": "stream",
     "text": [
      "2755715305680\n",
      "Kunal\n",
      "Aman\n",
      "2755715305680\n"
     ]
    }
   ],
   "source": [
    "greed(cust)"
   ]
  },
  {
   "cell_type": "code",
   "execution_count": 16,
   "metadata": {},
   "outputs": [
    {
     "name": "stdout",
     "output_type": "stream",
     "text": [
      "Aman\n"
     ]
    }
   ],
   "source": [
    "print(cust.name)"
   ]
  },
  {
   "cell_type": "markdown",
   "metadata": {},
   "source": [
    "collection of a object\n"
   ]
  },
  {
   "cell_type": "code",
   "execution_count": 17,
   "metadata": {},
   "outputs": [],
   "source": [
    "c1 = Customer(\"Aman\")\n",
    "c2 = Customer(\"Kunal\")\n",
    "c3 = Customer(\"Nishant\")"
   ]
  },
  {
   "cell_type": "code",
   "execution_count": 18,
   "metadata": {},
   "outputs": [
    {
     "name": "stdout",
     "output_type": "stream",
     "text": [
      "<__main__.Customer object at 0x000002819D752F90>\n",
      "Aman\n",
      "<__main__.Customer object at 0x000002819DC6D1D0>\n",
      "Kunal\n",
      "<__main__.Customer object at 0x000002819D6EF610>\n",
      "Nishant\n"
     ]
    }
   ],
   "source": [
    "l = [c1, c2, c3]\n",
    "for i in l:\n",
    "    print(i)\n",
    "    print(i.name)"
   ]
  },
  {
   "cell_type": "markdown",
   "metadata": {},
   "source": [
    "---\n"
   ]
  },
  {
   "cell_type": "markdown",
   "metadata": {},
   "source": [
    "static/class variable vs instance variable\n"
   ]
  },
  {
   "cell_type": "code",
   "execution_count": 38,
   "metadata": {},
   "outputs": [],
   "source": [
    "class Customer:\n",
    "    __c_count = 0\n",
    "\n",
    "    def __init__(self):\n",
    "        Customer.__c_count += 1\n",
    "\n",
    "    @staticmethod\n",
    "    def get_cid():\n",
    "        return Customer.__c_count\n",
    "\n",
    "    @staticmethod\n",
    "    def set_cid(cid):\n",
    "        Customer.__c_count = cid"
   ]
  },
  {
   "cell_type": "code",
   "execution_count": 39,
   "metadata": {},
   "outputs": [],
   "source": [
    "c1 = Customer()\n",
    "c2 = Customer()\n",
    "c3 = Customer()"
   ]
  },
  {
   "cell_type": "code",
   "execution_count": 42,
   "metadata": {},
   "outputs": [
    {
     "data": {
      "text/plain": [
       "3"
      ]
     },
     "execution_count": 42,
     "metadata": {},
     "output_type": "execute_result"
    }
   ],
   "source": [
    "Customer.get_cid()"
   ]
  },
  {
   "cell_type": "markdown",
   "metadata": {},
   "source": [
    "---\n"
   ]
  },
  {
   "cell_type": "markdown",
   "metadata": {},
   "source": [
    "Relationship between classes\n",
    "\n",
    "- Aggregation(Has-A) Class Smartphone is a class Product\n",
    "- Inheritance(Is-A) class Customer has a class Address\n"
   ]
  },
  {
   "cell_type": "markdown",
   "metadata": {},
   "source": [
    "# Aggregation\n"
   ]
  },
  {
   "cell_type": "code",
   "execution_count": 43,
   "metadata": {},
   "outputs": [],
   "source": [
    "class Customer:\n",
    "    def __init__(self, name, address) -> None:\n",
    "        self.name = name\n",
    "        self.address = address\n",
    "\n",
    "\n",
    "class Address:\n",
    "    def __init__(self, city, pin, state) -> None:\n",
    "        self.city = city\n",
    "        self.pin = pin\n",
    "        self.state = state"
   ]
  },
  {
   "cell_type": "code",
   "execution_count": 44,
   "metadata": {},
   "outputs": [],
   "source": [
    "add = Address(\"Madhubani\", \"847211\", \"Bihar\")\n",
    "c1 = Customer(\"Aman\", add)"
   ]
  },
  {
   "cell_type": "code",
   "execution_count": 45,
   "metadata": {},
   "outputs": [
    {
     "data": {
      "text/plain": [
       "'Madhubani'"
      ]
     },
     "execution_count": 45,
     "metadata": {},
     "output_type": "execute_result"
    }
   ],
   "source": [
    "c1.address.city"
   ]
  },
  {
   "cell_type": "markdown",
   "metadata": {},
   "source": [
    "# Inheritance follow DRY Principle\n"
   ]
  },
  {
   "cell_type": "code",
   "execution_count": 48,
   "metadata": {},
   "outputs": [],
   "source": [
    "class User:\n",
    "    def login(self):\n",
    "        print(\"Login\")\n",
    "\n",
    "    def Registration(self):\n",
    "        print(\"Registration\")\n",
    "\n",
    "\n",
    "class Student(User):\n",
    "    def enroll(self):\n",
    "        print(\"Enroll\")"
   ]
  },
  {
   "cell_type": "code",
   "execution_count": 49,
   "metadata": {},
   "outputs": [],
   "source": [
    "stu1 = Student()"
   ]
  },
  {
   "cell_type": "code",
   "execution_count": 51,
   "metadata": {},
   "outputs": [
    {
     "name": "stdout",
     "output_type": "stream",
     "text": [
      "Enroll\n",
      "Login\n",
      "Registration\n"
     ]
    }
   ],
   "source": [
    "stu1.enroll()\n",
    "stu1.login()\n",
    "stu1.Registration()"
   ]
  },
  {
   "cell_type": "code",
   "execution_count": 53,
   "metadata": {},
   "outputs": [],
   "source": [
    "class User:\n",
    "    def __init__(self, name, address) -> None:\n",
    "        self.name = name\n",
    "        self.address = address\n",
    "\n",
    "\n",
    "class Student(User):\n",
    "    pass"
   ]
  },
  {
   "cell_type": "code",
   "execution_count": 54,
   "metadata": {},
   "outputs": [],
   "source": [
    "s1 = Student(\"Aman\", \"Madhubani\")"
   ]
  },
  {
   "cell_type": "code",
   "execution_count": 55,
   "metadata": {},
   "outputs": [
    {
     "data": {
      "text/plain": [
       "'Aman'"
      ]
     },
     "execution_count": 55,
     "metadata": {},
     "output_type": "execute_result"
    }
   ],
   "source": [
    "s1.name"
   ]
  },
  {
   "cell_type": "code",
   "execution_count": 58,
   "metadata": {},
   "outputs": [],
   "source": [
    "class User:\n",
    "    def __init__(self, name, address) -> None:\n",
    "        self.name = name\n",
    "        self.__address = address\n",
    "\n",
    "\n",
    "class Student(User):\n",
    "    pass"
   ]
  },
  {
   "cell_type": "code",
   "execution_count": 59,
   "metadata": {},
   "outputs": [],
   "source": [
    "s1 = Student(\"Aman\", \"Madhubani\")"
   ]
  },
  {
   "cell_type": "code",
   "execution_count": 62,
   "metadata": {},
   "outputs": [
    {
     "ename": "AttributeError",
     "evalue": "'Student' object has no attribute '__address'",
     "output_type": "error",
     "traceback": [
      "\u001b[1;31m---------------------------------------------------------------------------\u001b[0m",
      "\u001b[1;31mAttributeError\u001b[0m                            Traceback (most recent call last)",
      "Cell \u001b[1;32mIn[62], line 1\u001b[0m\n\u001b[1;32m----> 1\u001b[0m \u001b[43ms1\u001b[49m\u001b[38;5;241;43m.\u001b[39;49m\u001b[43m__address\u001b[49m\n",
      "\u001b[1;31mAttributeError\u001b[0m: 'Student' object has no attribute '__address'"
     ]
    }
   ],
   "source": [
    "s1.__address"
   ]
  },
  {
   "cell_type": "markdown",
   "metadata": {},
   "source": [
    "Polymorphism\n",
    "\n",
    "- Method Overriding\n",
    "- Method Overloading\n",
    "- Operator Overloading\n"
   ]
  },
  {
   "cell_type": "markdown",
   "metadata": {},
   "source": [
    "Method Overriding\n"
   ]
  },
  {
   "cell_type": "code",
   "execution_count": 66,
   "metadata": {},
   "outputs": [],
   "source": [
    "class Phone:\n",
    "    def __init__(self) -> None:\n",
    "        print(\"Inside Constructor\")\n",
    "\n",
    "    def buy(self):\n",
    "        print(\"Buy Phone\")\n",
    "\n",
    "\n",
    "class SmartPhone(Phone):\n",
    "\n",
    "    def buy(self):\n",
    "        print(\"Buy Smart Phone\")"
   ]
  },
  {
   "cell_type": "code",
   "execution_count": 68,
   "metadata": {},
   "outputs": [
    {
     "name": "stdout",
     "output_type": "stream",
     "text": [
      "Inside Constructor\n"
     ]
    }
   ],
   "source": [
    "s = SmartPhone()"
   ]
  },
  {
   "cell_type": "code",
   "execution_count": 69,
   "metadata": {},
   "outputs": [
    {
     "name": "stdout",
     "output_type": "stream",
     "text": [
      "Buy Smart Phone\n"
     ]
    }
   ],
   "source": [
    "s.buy()"
   ]
  },
  {
   "cell_type": "markdown",
   "metadata": {},
   "source": [
    "Super Keyword\n",
    "\n",
    "- its use to call parent method and constructor\n",
    "- we can`t call attribute\n"
   ]
  },
  {
   "cell_type": "code",
   "execution_count": 4,
   "metadata": {},
   "outputs": [],
   "source": [
    "class Phone:\n",
    "    def __init__(self) -> None:\n",
    "        print(\"Inside Constructor\")\n",
    "\n",
    "    def buy(self):\n",
    "        print(\"Buy Phone\")\n",
    "\n",
    "\n",
    "class SmartPhone(Phone):\n",
    "\n",
    "    def buy(self):\n",
    "        print(\"Buy Smart Phone\")\n",
    "\n",
    "        super().buy()"
   ]
  },
  {
   "cell_type": "code",
   "execution_count": 5,
   "metadata": {},
   "outputs": [
    {
     "name": "stdout",
     "output_type": "stream",
     "text": [
      "Inside Constructor\n"
     ]
    }
   ],
   "source": [
    "s = SmartPhone()"
   ]
  },
  {
   "cell_type": "code",
   "execution_count": 6,
   "metadata": {},
   "outputs": [
    {
     "name": "stdout",
     "output_type": "stream",
     "text": [
      "Buy Smart Phone\n",
      "Buy Phone\n"
     ]
    }
   ],
   "source": [
    "s.buy()"
   ]
  },
  {
   "cell_type": "code",
   "execution_count": 12,
   "metadata": {},
   "outputs": [],
   "source": [
    "class Phone:\n",
    "    def __init__(self, name) -> None:\n",
    "        print(\"Inside Parents Constructor\")\n",
    "        self.name = name\n",
    "\n",
    "\n",
    "class SmartPhone(Phone):\n",
    "    def __init__(self, name, version) -> None:\n",
    "        super().__init__(name)\n",
    "        print(\"Inside child Constructor\")\n",
    "        self.version = version\n",
    "\n",
    "    def display(self):\n",
    "        print(self.name)\n",
    "        print(self.version)"
   ]
  },
  {
   "cell_type": "code",
   "execution_count": 13,
   "metadata": {},
   "outputs": [
    {
     "name": "stdout",
     "output_type": "stream",
     "text": [
      "Inside Parents Constructor\n",
      "Inside child Constructor\n"
     ]
    }
   ],
   "source": [
    "s = SmartPhone(\"Apple\", \"15\")"
   ]
  },
  {
   "cell_type": "code",
   "execution_count": 14,
   "metadata": {},
   "outputs": [
    {
     "name": "stdout",
     "output_type": "stream",
     "text": [
      "Apple\n",
      "15\n"
     ]
    }
   ],
   "source": [
    "s.display()"
   ]
  },
  {
   "cell_type": "markdown",
   "metadata": {},
   "source": [
    "Types of Inheritance:\n",
    "\n",
    "- Single Level Inheritance (Dad and Son)\n",
    "- Multilevel Level Inheritance(Grandpa, Dad and son)\n",
    "- Hierarchical Level Inheritance(Dad, son and Daughter)\n",
    "- Multiple Level Inheritance(Dad, Mom and son) MRO: Method Resolution order\n",
    "- Hybrid Inheritance(Combination of above type of inheritance type)\n"
   ]
  },
  {
   "cell_type": "markdown",
   "metadata": {},
   "source": [
    "MRO"
   ]
  },
  {
   "cell_type": "code",
   "execution_count": 16,
   "metadata": {},
   "outputs": [],
   "source": [
    "class Father:\n",
    "    def display(self):\n",
    "        print(\"Father\")\n",
    "\n",
    "\n",
    "class Mother:\n",
    "\n",
    "    def display(self):\n",
    "        print(\"Mother\")\n",
    "\n",
    "\n",
    "class Baby1(Father, Mother):\n",
    "    pass\n",
    "\n",
    "\n",
    "class Baby2(Mother, Father):\n",
    "    pass"
   ]
  },
  {
   "cell_type": "code",
   "execution_count": 17,
   "metadata": {},
   "outputs": [
    {
     "name": "stdout",
     "output_type": "stream",
     "text": [
      "Father\n",
      "Mother\n"
     ]
    }
   ],
   "source": [
    "b1=Baby1()\n",
    "b2=Baby2()\n",
    "b1.display()\n",
    "b2.display()"
   ]
  },
  {
   "cell_type": "markdown",
   "metadata": {},
   "source": [
    "Operator Overloading and Method Overloading"
   ]
  },
  {
   "cell_type": "code",
   "execution_count": 18,
   "metadata": {},
   "outputs": [],
   "source": [
    "class Shape:\n",
    "    def area(self, length=0, radius=0):\n",
    "        pass\n",
    "\n",
    "\n",
    "class Square(Shape):\n",
    "    def area(self, length, radius=0):\n",
    "        return length * length\n",
    "\n",
    "\n",
    "class Circle(Shape):\n",
    "    def area(self, radius, length=0):\n",
    "        return 2 * 3.14 * radius * radius"
   ]
  },
  {
   "cell_type": "code",
   "execution_count": 20,
   "metadata": {},
   "outputs": [
    {
     "name": "stdout",
     "output_type": "stream",
     "text": [
      "4\n",
      "25.12\n"
     ]
    }
   ],
   "source": [
    "s=Square()\n",
    "c=Circle()\n",
    "print(s.area(2))\n",
    "print(c.area(2))"
   ]
  },
  {
   "cell_type": "code",
   "execution_count": 24,
   "metadata": {},
   "outputs": [
    {
     "name": "stdout",
     "output_type": "stream",
     "text": [
      "12/9\n"
     ]
    }
   ],
   "source": [
    "f1 = Fraction(2, 3)\n",
    "f2 = Fraction(2, 3)\n",
    "print(f1 + f2)"
   ]
  },
  {
   "cell_type": "code",
   "execution_count": null,
   "metadata": {},
   "outputs": [],
   "source": []
  }
 ],
 "metadata": {
  "kernelspec": {
   "display_name": "Python 3",
   "language": "python",
   "name": "python3"
  },
  "language_info": {
   "codemirror_mode": {
    "name": "ipython",
    "version": 3
   },
   "file_extension": ".py",
   "mimetype": "text/x-python",
   "name": "python",
   "nbconvert_exporter": "python",
   "pygments_lexer": "ipython3",
   "version": "3.11.4"
  }
 },
 "nbformat": 4,
 "nbformat_minor": 2
}
